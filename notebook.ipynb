{
 "cells": [
  {
   "cell_type": "markdown",
   "id": "1ea5847f",
   "metadata": {},
   "source": [
    "# **Import Library**"
   ]
  },
  {
   "cell_type": "code",
   "execution_count": 2,
   "id": "76e7b2d9",
   "metadata": {},
   "outputs": [],
   "source": [
    "import pandas as pd\n",
    "import matplotlib.pyplot as plt\n",
    "import seaborn as sns\n",
    "import numpy as np\n",
    "from sklearn.metrics import precision_score\n",
    "from sklearn.feature_extraction.text import TfidfVectorizer\n",
    "from sklearn.neighbors import NearestNeighbors\n",
    "from collections import Counter"
   ]
  },
  {
   "cell_type": "markdown",
   "id": "dc9c0e95",
   "metadata": {},
   "source": [
    "# **Data Understanding**"
   ]
  },
  {
   "cell_type": "markdown",
   "id": "cd14194a",
   "metadata": {},
   "source": [
    "## **Memuat Dataset**"
   ]
  },
  {
   "cell_type": "code",
   "execution_count": 3,
   "id": "e1d48831",
   "metadata": {},
   "outputs": [],
   "source": [
    "movies = pd.read_csv(\"ml-32m/movies.csv\")\n",
    "ratings = pd.read_csv(\"ml-32m/ratings.csv\")\n",
    "tags = pd.read_csv(\"ml-32m/tags.csv\")\n",
    "links = pd.read_csv(\"ml-32m/links.csv\")"
   ]
  },
  {
   "cell_type": "code",
   "execution_count": 4,
   "id": "1f513bf9",
   "metadata": {},
   "outputs": [
    {
     "name": "stdout",
     "output_type": "stream",
     "text": [
      "Movies Dataset:\n",
      "   movieId                               title  \\\n",
      "0        1                    Toy Story (1995)   \n",
      "1        2                      Jumanji (1995)   \n",
      "2        3             Grumpier Old Men (1995)   \n",
      "3        4            Waiting to Exhale (1995)   \n",
      "4        5  Father of the Bride Part II (1995)   \n",
      "\n",
      "                                        genres  \n",
      "0  Adventure|Animation|Children|Comedy|Fantasy  \n",
      "1                   Adventure|Children|Fantasy  \n",
      "2                               Comedy|Romance  \n",
      "3                         Comedy|Drama|Romance  \n",
      "4                                       Comedy  \n"
     ]
    }
   ],
   "source": [
    "print(\"Movies Dataset:\")\n",
    "print(movies.head())"
   ]
  },
  {
   "cell_type": "markdown",
   "id": "1556f80a",
   "metadata": {},
   "source": [
    "Dataset ini berisi informasi tentang berbagai film. Berikut penjelasan strukturnya:\n",
    "1. **`movieId`**  \n",
    "   - Tipe: Integer  \n",
    "   - Deskripsi: Identifikasi unik untuk setiap film  \n",
    "   - Contoh: `1`, `2`, `3`\n",
    "\n",
    "2. **`title`**  \n",
    "   - Tipe: String  \n",
    "   - Deskripsi: Judul film beserta tahun rilisnya (dalam tanda kurung)  \n",
    "   - Contoh: `\"Toy Story (1995)\"`, `\"Jumanji (1995)\"`\n",
    "\n",
    "3. **`genres`**  \n",
    "   - Tipe: String  \n",
    "   - Deskripsi: Genre film yang dipisahkan oleh tanda `|`  \n",
    "   - Contoh: `\"Adventure|Animation\"`, `\"Comedy|Romance\"`"
   ]
  },
  {
   "cell_type": "code",
   "execution_count": 5,
   "id": "b369906c",
   "metadata": {},
   "outputs": [
    {
     "name": "stdout",
     "output_type": "stream",
     "text": [
      "Ratings Dataset:\n",
      "   userId  movieId  rating  timestamp\n",
      "0       1       17     4.0  944249077\n",
      "1       1       25     1.0  944250228\n",
      "2       1       29     2.0  943230976\n",
      "3       1       30     5.0  944249077\n",
      "4       1       32     5.0  943228858\n"
     ]
    }
   ],
   "source": [
    "print(\"Ratings Dataset:\")\n",
    "print(ratings.head())\n"
   ]
  },
  {
   "cell_type": "markdown",
   "id": "d2a9b328",
   "metadata": {},
   "source": [
    "Dataset ini berisi informasi penilaian (rating) yang diberikan oleh pengguna terhadap berbagai film. Berikut penjelasan strukturnya:\n",
    "1. **`userId`**  \n",
    "   - Tipe: Integer  \n",
    "   - Deskripsi: ID unik pengguna yang memberikan rating  \n",
    "   - Contoh: `1`, `2`, `3`\n",
    "\n",
    "2. **`movieId`**  \n",
    "   - Tipe: Integer  \n",
    "   - Deskripsi: ID film yang sesuai dengan `movieId` di dataset Movies  \n",
    "   - Contoh: `17`, `25`, `29` (merujuk ke film tertentu)\n",
    "\n",
    "3. **`rating`**  \n",
    "   - Tipe: Float  \n",
    "   - Deskripsi: Nilai rating dalam skala tertentu (biasanya 1.0-5.0)  \n",
    "   - Contoh: `4.0`, `1.0`, `5.0`\n",
    "\n",
    "4. **`timestamp`**  \n",
    "   - Tipe: Integer  \n",
    "   - Deskripsi: Waktu saat rating diberikan dalam format [Unix Timestamp](https://en.wikipedia.org/wiki/Unix_time)  \n",
    "   - Contoh: `944249077` (artinya 28 November 1999, 23:17:57 UTC)\n"
   ]
  },
  {
   "cell_type": "code",
   "execution_count": 6,
   "id": "ef75b94f",
   "metadata": {},
   "outputs": [
    {
     "name": "stdout",
     "output_type": "stream",
     "text": [
      "Tags Dataset:\n",
      "   userId  movieId          tag   timestamp\n",
      "0      22    26479  Kevin Kline  1583038886\n",
      "1      22    79592     misogyny  1581476297\n",
      "2      22   247150   acrophobia  1622483469\n",
      "3      34     2174        music  1249808064\n",
      "4      34     2174        weird  1249808102\n"
     ]
    }
   ],
   "source": [
    "print(\"Tags Dataset:\")\n",
    "print(tags.head())"
   ]
  },
  {
   "cell_type": "markdown",
   "id": "71bf5e35",
   "metadata": {},
   "source": [
    "Dataset ini berisi tag atau label yang diberikan oleh pengguna kepada film-film tertentu. Berikut penjelasan strukturnya:\n",
    "1. **`userId`**  \n",
    "   - Tipe: Integer  \n",
    "   - Deskripsi: ID unik pengguna yang memberikan tag  \n",
    "   - Contoh: `22`, `34`\n",
    "\n",
    "2. **`movieId`**  \n",
    "   - Tipe: Integer  \n",
    "   - Deskripsi: ID film yang sesuai dengan `movieId` di dataset Movies  \n",
    "   - Contoh: `26479`, `79592`, `2174`\n",
    "\n",
    "3. **`tag`**  \n",
    "   - Tipe: String  \n",
    "   - Deskripsi: Kata kunci atau label deskriptif yang diberikan pengguna untuk film  \n",
    "   - Contoh: `\"Kevin Kline\"`, `\"misogyny\"`, `\"music\"`\n",
    "\n",
    "4. **`timestamp`**  \n",
    "   - Tipe: Integer  \n",
    "   - Deskripsi: Waktu saat tag dibuat dalam format [Unix Timestamp](https://id.wikipedia.org/wiki/Waktu_Unix)  \n",
    "   - Contoh: `1583038886` (artinya 1 Maret 2020, 15:01:26 UTC)\n"
   ]
  },
  {
   "cell_type": "code",
   "execution_count": 7,
   "id": "66fa91eb",
   "metadata": {},
   "outputs": [
    {
     "name": "stdout",
     "output_type": "stream",
     "text": [
      "Links Dataset:\n",
      "   movieId  imdbId   tmdbId\n",
      "0        1  114709    862.0\n",
      "1        2  113497   8844.0\n",
      "2        3  113228  15602.0\n",
      "3        4  114885  31357.0\n",
      "4        5  113041  11862.0\n"
     ]
    }
   ],
   "source": [
    "print(\"Links Dataset:\")\n",
    "print(links.head())\n"
   ]
  },
  {
   "cell_type": "markdown",
   "id": "a47f8305",
   "metadata": {},
   "source": [
    "Dataset ini berisi ID referensi eksternal yang menghubungkan film-film dalam dataset ke database film populer lainnya. Berikut penjelasan strukturnya:\n",
    "1. **`movieId`**  \n",
    "   - Tipe: Integer  \n",
    "   - Deskripsi: ID unik film dalam dataset lokal (konsisten dengan kolom `movieId` di dataset Movies)  \n",
    "   - Contoh: `1`, `2`, `3`\n",
    "\n",
    "2. **`imdbId`**  \n",
    "   - Tipe: Integer  \n",
    "   - Deskripsi: ID film di database [IMDb (Internet Movie Database)](https://www.imdb.com/)  \n",
    "   - Format: 7-digit (contoh: `114709` mengarah ke [tt0114709](https://www.imdb.com/title/tt0114709/) - Toy Story)  \n",
    "   - Contoh: `114709`, `113497`\n",
    "\n",
    "3. **`tmdbId`**  \n",
    "   - Tipe: Float (bisa di-convert ke integer)  \n",
    "   - Deskripsi: ID film di database [TMDb (The Movie Database)](https://www.themoviedb.org/)  \n",
    "   - Contoh: `862.0`, `8844.0`"
   ]
  },
  {
   "cell_type": "markdown",
   "id": "27268ddf",
   "metadata": {},
   "source": [
    "## **Informasi Umum Dataset**"
   ]
  },
  {
   "cell_type": "code",
   "execution_count": 8,
   "id": "8e9f443e",
   "metadata": {},
   "outputs": [
    {
     "name": "stdout",
     "output_type": "stream",
     "text": [
      "\n",
      "Jumlah Data:\n",
      "movies: (87585, 3)\n",
      "ratings: (32000204, 4)\n",
      "tags: (2000072, 4)\n",
      "links: (87585, 3)\n"
     ]
    }
   ],
   "source": [
    "print(\"\\nJumlah Data:\")\n",
    "print(f\"movies: {movies.shape}\")\n",
    "print(f\"ratings: {ratings.shape}\")\n",
    "print(f\"tags: {tags.shape}\")\n",
    "print(f\"links: {links.shape}\")"
   ]
  },
  {
   "cell_type": "markdown",
   "id": "9acac57f",
   "metadata": {},
   "source": [
    "1. **Dataset Movies**  \n",
    "   - Bentuk: `(87,585, 3)`  \n",
    "   - Artinya:  \n",
    "     - Terdapat **87,585 film** dalam dataset  \n",
    "     - Setiap film memiliki **3 atribut/kolom** (movieId, title, genres)  \n",
    "\n",
    "2. **Dataset Ratings**  \n",
    "   - Bentuk: `(32,000,204, 4)`  \n",
    "   - Artinya:  \n",
    "     - Terdapat **32 juta lebih rating** yang diberikan pengguna  \n",
    "     - Setiap rating memiliki **4 atribut** (userId, movieId, rating, timestamp)  \n",
    "     - Ini adalah dataset terbesar dalam koleksi data\n",
    "\n",
    "3. **Dataset Tags**  \n",
    "   - Bentuk: `(2,000,072, 4)`  \n",
    "   - Artinya:  \n",
    "     - Terdapat **2 juta lebih tag** yang diberikan pengguna  \n",
    "     - Setiap tag memiliki **4 atribut** (userId, movieId, tag, timestamp)\n",
    "\n",
    "4. **Dataset Links**  \n",
    "   - Bentuk: `(87,585, 3)`  \n",
    "   - Artinya:  \n",
    "     - Terdapat **87,585 link referensi eksternal** (sama banyaknya dengan dataset Movies)  \n",
    "     - Setiap link memiliki **3 atribut** (movieId, imdbId, tmdbId)"
   ]
  },
  {
   "cell_type": "markdown",
   "id": "038339bc",
   "metadata": {},
   "source": [
    "## **Cek Missing Values**"
   ]
  },
  {
   "cell_type": "code",
   "execution_count": 9,
   "id": "f5ee256c",
   "metadata": {},
   "outputs": [
    {
     "name": "stdout",
     "output_type": "stream",
     "text": [
      "Missing Values per Dataset:\n",
      "\n",
      "Movies:\n",
      "  movieId   : 0\n",
      "  title     : 0\n",
      "  genres    : 0\n",
      "\n",
      "Ratings:\n",
      "  userId    : 0\n",
      "  movieId   : 0\n",
      "  rating    : 0\n",
      "  timestamp : 0\n",
      "\n",
      "Tags:\n",
      "  userId    : 0\n",
      "  movieId   : 0\n",
      "  tag       : 17\n",
      "  timestamp : 0\n",
      "\n",
      "Links:\n",
      "  movieId   : 0\n",
      "  imdbId    : 0\n",
      "  tmdbId    : 124\n"
     ]
    }
   ],
   "source": [
    "def print_missing_values(df_dict):\n",
    "    print(\"Missing Values per Dataset:\")\n",
    "    for dataset_name, df in df_dict.items():\n",
    "        print(f\"\\n{dataset_name}:\")\n",
    "        missing_counts = df.isnull().sum()\n",
    "        for col, count in missing_counts.items():\n",
    "            print(f\"  {col:10}: {count}\")\n",
    "\n",
    "datasets = {\n",
    "    \"Movies\": movies,\n",
    "    \"Ratings\": ratings,\n",
    "    \"Tags\": tags,\n",
    "    \"Links\": links\n",
    "}\n",
    "\n",
    "print_missing_values(datasets)"
   ]
  },
  {
   "cell_type": "markdown",
   "id": "05bec1df",
   "metadata": {},
   "source": [
    "## **Statistik Rating**"
   ]
  },
  {
   "cell_type": "code",
   "execution_count": 10,
   "id": "1032e125",
   "metadata": {},
   "outputs": [
    {
     "name": "stdout",
     "output_type": "stream",
     "text": [
      "\n",
      "Statistik Rating:\n",
      "count    3.200020e+07\n",
      "mean     3.540396e+00\n",
      "std      1.058986e+00\n",
      "min      5.000000e-01\n",
      "25%      3.000000e+00\n",
      "50%      3.500000e+00\n",
      "75%      4.000000e+00\n",
      "max      5.000000e+00\n",
      "Name: rating, dtype: float64\n"
     ]
    }
   ],
   "source": [
    "print(\"\\nStatistik Rating:\")\n",
    "print(ratings['rating'].describe())"
   ]
  },
  {
   "cell_type": "markdown",
   "id": "dc26a466",
   "metadata": {},
   "source": [
    "### Penjelasan Metrik Statistik:\n",
    "\n",
    "| Metrik       | Nilai               | Artinya                                                                 |\n",
    "|--------------|---------------------|-------------------------------------------------------------------------|\n",
    "| **count**    | 3.200020e+07 (32 juta) | Total rating yang tercatat dalam dataset                                |\n",
    "| **mean**     | 3.540396            | Rata-rata rating seluruh film adalah **3.54** (skala 0.5-5.0)          |\n",
    "| **std**      | 1.058986            | Standar deviasi menunjukkan variasi rating relatif tinggi (1.06)       |\n",
    "| **min**      | 0.5                 | Rating terendah yang mungkin diberikan                                 |\n",
    "| **25%**      | 3.0                 | 25% rating bernilai ≤ 3.0 (kuartil bawah)                              |\n",
    "| **50%**      | 3.5                 | Median rating adalah 3.5 (50% rating di atas/bawah nilai ini)          |\n",
    "| **75%**      | 4.0                 | 75% rating bernilai ≤ 4.0 (kuartil atas)                               |\n",
    "| **max**      | 5.0                 | Rating tertinggi yang mungkin diberikan                                |\n",
    "\n",
    "### Interpretasi Penting:\n",
    "\n",
    "1. **Distribusi Rating**:\n",
    "   - Rata-rata rating (3.54) cenderung positif\n",
    "   - Median (3.5) hampir sama dengan mean, menunjukkan distribusi yang relatif simetris\n",
    "   - 75% rating bernilai ≥ 3.0 dan ≤ 4.0\n",
    "\n",
    "2. **Rentang Nilai**:\n",
    "   ```python\n",
    "   Skala rating: 0.5 (terendah) — 5.0 (tertinggi)"
   ]
  },
  {
   "cell_type": "markdown",
   "id": "4813fa0a",
   "metadata": {},
   "source": [
    "## **Distribusi Jumlah Rating per Film dan per User**"
   ]
  },
  {
   "cell_type": "code",
   "execution_count": 11,
   "id": "19fcc9ea",
   "metadata": {},
   "outputs": [
    {
     "name": "stdout",
     "output_type": "stream",
     "text": [
      "\n",
      "Jumlah Rating per Movie (Top 10):\n",
      "movieId\n",
      "318     102929\n",
      "356     100296\n",
      "296      98409\n",
      "2571     93808\n",
      "593      90330\n",
      "260      85010\n",
      "2959     77332\n",
      "480      75233\n",
      "527      73849\n",
      "4993     73122\n",
      "Name: count, dtype: int64\n"
     ]
    }
   ],
   "source": [
    "print(\"\\nJumlah Rating per Movie (Top 10):\")\n",
    "print(ratings['movieId'].value_counts().head(10))"
   ]
  },
  {
   "cell_type": "markdown",
   "id": "7bcb3953",
   "metadata": {},
   "source": [
    "1. **Skala Popularitas**:\n",
    "   - Film terpopuler (ID 318) mendapat >100 ribu rating\n",
    "   - Selisih antara peringkat 1 dan 10 ≈ 29,807 rating (102,929 vs 73,122)\n",
    "\n",
    "2. **Distribusi**:\n",
    "   ```python\n",
    "   Rentang jumlah rating: 73,122 - 102,929\n",
    "   Mean (rata-rata) top 10: ≈ 88,942 rating"
   ]
  },
  {
   "cell_type": "code",
   "execution_count": 12,
   "id": "ad1f6d29",
   "metadata": {},
   "outputs": [
    {
     "name": "stdout",
     "output_type": "stream",
     "text": [
      "\n",
      "Jumlah Rating per User (Top 10):\n",
      "userId\n",
      "175325    33332\n",
      "17035      9577\n",
      "55653      9178\n",
      "123465     9044\n",
      "171795     9016\n",
      "10202      7748\n",
      "198515     7594\n",
      "49305      7488\n",
      "22744      7372\n",
      "7858       7322\n",
      "Name: count, dtype: int64\n"
     ]
    }
   ],
   "source": [
    "print(\"\\nJumlah Rating per User (Top 10):\")\n",
    "print(ratings['userId'].value_counts().head(10))"
   ]
  },
  {
   "cell_type": "markdown",
   "id": "6eb70ecc",
   "metadata": {},
   "source": [
    "1. **Dominasi Pengguna 175325**:\n",
    "   - Memberikan **3.5x lebih banyak** rating daripada peringkat kedua\n",
    "   - Jumlah ratingnya setara dengan **0.1% dari total seluruh rating** (33k dari 32 juta)\n",
    "\n",
    "2. **Distribusi Aktivitas**:\n",
    "   ```python\n",
    "   Rentang: 7,322 - 33,332 rating\n",
    "   Selisih peringkat 1 dan 2: 23,755 rating (anomali)\n",
    "   Rata-rata top 10: ≈ 10,967 rating"
   ]
  },
  {
   "cell_type": "markdown",
   "id": "c0d1e3f7",
   "metadata": {},
   "source": [
    "# **Univariate EDA**"
   ]
  },
  {
   "cell_type": "code",
   "execution_count": 13,
   "id": "d69ee87e",
   "metadata": {},
   "outputs": [],
   "source": [
    "sns.set(style=\"whitegrid\")\n",
    "plt.rcParams[\"figure.figsize\"] = (10, 5)\n"
   ]
  },
  {
   "cell_type": "markdown",
   "id": "9a40e7ca",
   "metadata": {},
   "source": [
    "Kode ini melakukan konfigurasi dasar untuk tampilan visualisasi data menggunakan library Seaborn dan Matplotlib"
   ]
  },
  {
   "cell_type": "markdown",
   "id": "90407836",
   "metadata": {},
   "source": [
    "## **Distribusi Rating**"
   ]
  },
  {
   "cell_type": "code",
   "execution_count": 14,
   "id": "eb46d323",
   "metadata": {},
   "outputs": [
    {
     "data": {
      "image/png": "[encoded data removed]",
      "text/plain": [
       "<Figure size 1000x500 with 1 Axes>"
      ]
     },
     "metadata": {},
     "output_type": "display_data"
    }
   ],
   "source": [
    "plt.figure()\n",
    "sns.histplot(ratings['rating'], bins=10, kde=True)\n",
    "plt.title(\"Distribusi Rating\")\n",
    "plt.xlabel(\"Rating\")\n",
    "plt.ylabel(\"Jumlah\")\n",
    "plt.show()"
   ]
  },
  {
   "cell_type": "markdown",
   "id": "4caefa7e",
   "metadata": {},
   "source": [
    "### Hasil Interpretasi\n",
    "\n",
    "1. **Distribusi Tidak Merata**:\n",
    "   - Data rating tidak tersebar secara merata di seluruh rentang nilai.\n",
    "   - Rating cenderung **terkonsentrasi di angka-angka tertentu**.\n",
    "\n",
    "2. **Puncak Distribusi**:\n",
    "   - Terdapat puncak (peak) paling tinggi di sekitar **rating 4**, yang mengindikasikan bahwa **rating 4 adalah yang paling umum** diberikan oleh pengguna.\n",
    "   - Selain itu, rating **3 dan 5** juga cukup sering muncul.\n",
    "\n",
    "3. **Rating Rendah Jarang Diberikan**:\n",
    "   - Rating antara **0 hingga 2** memiliki frekuensi yang jauh lebih rendah, artinya hanya sedikit pengguna yang memberikan nilai rendah.\n",
    "\n",
    "4. **Distribusi Multimodal**:\n",
    "   - Terdapat beberapa puncak dalam kurva KDE, yang menunjukkan **banyaknya nilai rating yang sering diberikan secara spesifik** (misalnya: 3.0, 4.0, 5.0).\n",
    "   - Ini mengindikasikan kecenderungan pengguna untuk memilih angka bulat.\n",
    "\n",
    "5. **KDE Terlihat Tajam dan Berfluktuasi**:\n",
    "   - Kurva KDE sangat fluktuatif (tajam dan bergerigi), yang kemungkinan besar disebabkan oleh:\n",
    "     - **Jumlah data yang sangat besar**\n",
    "     - **Bandwidth KDE yang terlalu kecil**\n",
    "   - Hal ini bisa dikoreksi dengan menyesuaikan parameter `bw_adjust` pada fungsi KDE agar grafik terlihat lebih halus dan representatif.\n",
    "\n",
    "---\n",
    "\n",
    "### Kesimpulan\n",
    "Grafik distribusi rating menunjukkan bahwa sebagian besar pengguna memberikan rating tinggi (khususnya 4), sementara hanya sebagian kecil yang memberikan rating rendah. Ini bisa menjadi indikator positif terhadap kualitas produk atau layanan yang dinilai."
   ]
  },
  {
   "cell_type": "markdown",
   "id": "e5c72716",
   "metadata": {},
   "source": [
    "## **Film dengan Rating Terbanyak**"
   ]
  },
  {
   "cell_type": "code",
   "execution_count": 15,
   "id": "277e9b8a",
   "metadata": {},
   "outputs": [
    {
     "data": {
      "image/png": "[encoded data removed]",
      "text/plain": [
       "<Figure size 1000x500 with 1 Axes>"
      ]
     },
     "metadata": {},
     "output_type": "display_data"
    }
   ],
   "source": [
    "top_movies_by_rating = ratings['movieId'].value_counts().head(10)\n",
    "top_movie_ids = top_movies_by_rating.index\n",
    "top_movie_titles = movies[movies['movieId'].isin(top_movie_ids)]\n",
    "\n",
    "plt.figure()\n",
    "sns.barplot(\n",
    "    x=top_movies_by_rating.values,\n",
    "    y=top_movie_titles.set_index('movieId').loc[top_movie_ids]['title']\n",
    ")\n",
    "plt.title(\"Top 10 Film dengan Rating Terbanyak\")\n",
    "plt.xlabel(\"Jumlah Rating\")\n",
    "plt.ylabel(\"Judul Film\")\n",
    "plt.show()"
   ]
  },
  {
   "cell_type": "markdown",
   "id": "df442a27",
   "metadata": {},
   "source": [
    "### Hasil Interpretasi\n",
    "\n",
    "1. **Film dengan Rating Terbanyak**:\n",
    "   - **The Shawshank Redemption (1994)** menempati posisi pertama dengan jumlah rating tertinggi, sedikit di atas 100.000 rating.\n",
    "   - Film ini sering dianggap sebagai salah satu film terbaik sepanjang masa, yang sejalan dengan tingginya jumlah rating.\n",
    "\n",
    "2. **Film Lain dengan Jumlah Rating Tinggi**:\n",
    "   - **Forrest Gump (1994)** dan **Pulp Fiction (1994)** menyusul di posisi kedua dan ketiga, dengan jumlah rating yang sangat dekat.\n",
    "   - Film-film ini juga tergolong klasik dan populer secara global.\n",
    "\n",
    "3. **Dominasi Film Tahun 1990-an**:\n",
    "   - Mayoritas film dalam daftar dirilis pada **dekade 1990-an**, menunjukkan bahwa film-film dari periode tersebut masih sangat populer dan relevan bagi banyak penonton hingga kini.\n",
    "   - Hanya satu film dari dekade 2000-an, yaitu **The Lord of the Rings: The Fellowship of the Ring (2001)**, yang masuk dalam daftar.\n",
    "\n",
    "4. **Keberagaman Genre**:\n",
    "   - Daftar ini mencakup berbagai genre seperti drama (**Shawshank Redemption**), aksi (**Matrix**, **Fight Club**), sci-fi (**Star Wars**), hingga thriller psikologis (**Silence of the Lambs**), menunjukkan bahwa popularitas tidak terbatas pada satu genre tertentu.\n",
    "\n",
    "---\n",
    "\n",
    "### Kesimpulan\n",
    "Grafik ini mengungkap bahwa film klasik dan berkualitas dari tahun 1990-an mendominasi dalam hal jumlah rating yang diberikan pengguna. Jumlah rating yang tinggi ini bisa menjadi indikator bahwa film-film tersebut banyak ditonton, dikenang, dan dinilai ulang oleh generasi penonton yang berbeda."
   ]
  },
  {
   "cell_type": "markdown",
   "id": "a1e738fe",
   "metadata": {},
   "source": [
    "## **Genre Terbanyak**"
   ]
  },
  {
   "cell_type": "code",
   "execution_count": 16,
   "id": "30b9789a",
   "metadata": {},
   "outputs": [
    {
     "data": {
      "image/png": "[encoded data removed]",
      "text/plain": [
       "<Figure size 1000x500 with 1 Axes>"
      ]
     },
     "metadata": {},
     "output_type": "display_data"
    }
   ],
   "source": [
    "genre_lists = movies['genres'].str.split('|')\n",
    "genre_flat = [genre for sublist in genre_lists for genre in sublist if genre != '(no genres listed)']\n",
    "genre_counts = Counter(genre_flat)\n",
    "\n",
    "genre_df = pd.DataFrame(genre_counts.items(), columns=['Genre', 'Jumlah'])\n",
    "genre_df = genre_df.sort_values(by='Jumlah', ascending=False)\n",
    "\n",
    "plt.figure()\n",
    "sns.barplot(data=genre_df, x='Jumlah', y='Genre')\n",
    "plt.title(\"Distribusi Genre Film\")\n",
    "plt.xlabel(\"Jumlah Film\")\n",
    "plt.ylabel(\"Genre\")\n",
    "plt.show()"
   ]
  },
  {
   "cell_type": "markdown",
   "id": "abcb3188",
   "metadata": {},
   "source": [
    "### Hasil Interpretasi\n",
    "\n",
    "1. **Genre Terpopuler**:\n",
    "   - **Drama** merupakan genre dengan jumlah film terbanyak, yaitu mendekati **34.000 film**.\n",
    "   - Diikuti oleh **Comedy** (~24.000 film) dan **Thriller** (~22.000 film).\n",
    "   - Ini menunjukkan bahwa genre drama, komedi, dan thriller mendominasi produksi film secara umum.\n",
    "\n",
    "2. **Genre Menengah**:\n",
    "   - Genre seperti **Romance**, **Action**, **Documentary**, dan **Horror** memiliki jumlah film yang cukup besar, berkisar antara **8.000–11.000** film.\n",
    "   - Menunjukkan bahwa tema cinta, aksi, dan dokumenter juga cukup banyak diminati dan diproduksi.\n",
    "\n",
    "3. **Genre Kurang Umum**:\n",
    "   - Genre seperti **Western**, **Musical**, **Film-Noir**, dan **IMAX** memiliki jumlah film yang jauh lebih sedikit dibanding genre lainnya.\n",
    "   - **IMAX** menjadi genre dengan jumlah film paling sedikit, menunjukkan bahwa film dengan format khusus ini lebih jarang diproduksi.\n",
    "\n",
    "4. **Keberagaman Genre**:\n",
    "   - Terdapat lebih dari 15 genre yang berbeda, mencerminkan bahwa industri film menawarkan pilihan yang sangat beragam untuk berbagai selera dan usia.\n",
    "\n",
    "---\n",
    "\n",
    "### Kesimpulan\n",
    "Distribusi ini menunjukkan bahwa **Drama** adalah genre paling dominan dalam industri film, diikuti oleh **Comedy** dan **Thriller**. Sementara itu, genre-genre seperti **IMAX** dan **Film-Noir** relatif jarang. Informasi ini dapat digunakan untuk memahami tren preferensi produksi film dan potensi pasar dalam industri perfilman."
   ]
  },
  {
   "cell_type": "markdown",
   "id": "cd14811b",
   "metadata": {},
   "source": [
    "## **Tag yang Paling Sering Digunakan**"
   ]
  },
  {
   "cell_type": "code",
   "execution_count": 17,
   "id": "5aea01b7",
   "metadata": {},
   "outputs": [
    {
     "data": {
      "image/png": "[encoded data removed]",
      "text/plain": [
       "<Figure size 1000x500 with 1 Axes>"
      ]
     },
     "metadata": {},
     "output_type": "display_data"
    }
   ],
   "source": [
    "tag_counts = tags['tag'].value_counts().head(10)\n",
    "\n",
    "plt.figure()\n",
    "sns.barplot(x=tag_counts.values, y=tag_counts.index)\n",
    "plt.title(\"Top 10 Tag Paling Populer\")\n",
    "plt.xlabel(\"Jumlah Tag\")\n",
    "plt.ylabel(\"Tag\")\n",
    "plt.show()"
   ]
  },
  {
   "cell_type": "markdown",
   "id": "c55e4639",
   "metadata": {},
   "source": [
    "### Hasil Interpretasi\n",
    "\n",
    "1. **Tag Terpopuler**:\n",
    "   - Tag **\"sci-fi\"** menjadi yang paling sering digunakan, dengan jumlah melebihi **11.000 kemunculan**, menunjukkan bahwa genre fiksi ilmiah sangat populer di kalangan penonton atau pencatat metadata.\n",
    "\n",
    "2. **Tag Umum Lainnya**:\n",
    "   - Tag **\"atmospheric\"**, **\"action\"**, dan **\"comedy\"** juga termasuk yang paling banyak digunakan, menunjukkan bahwa elemen suasana, aksi, dan komedi adalah daya tarik utama dalam film.\n",
    "\n",
    "3. **Unsur Cerita & Visual**:\n",
    "   - Tag seperti **\"twist ending\"**, **\"visually appealing\"**, dan **\"based on a book\"** menunjukkan bahwa **alur cerita yang mengejutkan**, **visual yang menarik**, dan **adaptasi dari buku** juga merupakan faktor yang diapresiasi penonton.\n",
    "\n",
    "4. **Kecenderungan Genre & Nuansa**:\n",
    "   - Adanya tag seperti **\"dark comedy\"**, **\"surreal\"**, dan **\"funny\"** menunjukkan minat penonton terhadap film dengan nuansa tertentu, baik itu **humor gelap** maupun **pengalaman sinematik yang tidak biasa (surealis)**.\n",
    "\n",
    "---\n",
    "\n",
    "### Kesimpulan\n",
    "Tag-tag paling populer mencerminkan **preferensi audiens terhadap genre dan elemen naratif tertentu**, dengan fiksi ilmiah, atmosfer kuat, aksi, dan komedi menjadi daya tarik utama. Selain itu, aspek visual dan struktur cerita yang unik juga memainkan peran penting dalam persepsi dan klasifikasi film.\n"
   ]
  },
  {
   "cell_type": "markdown",
   "id": "bbdd1225",
   "metadata": {},
   "source": [
    "# **Data Preprocessing**"
   ]
  },
  {
   "cell_type": "markdown",
   "id": "ea6a3cc1",
   "metadata": {},
   "source": [
    "## **Pisahkan Genre**"
   ]
  },
  {
   "cell_type": "code",
   "execution_count": 18,
   "id": "3de7c6db",
   "metadata": {},
   "outputs": [],
   "source": [
    "# Buat kolom baru: list of genre\n",
    "movies['genre_list'] = movies['genres'].apply(lambda x: x.split('|') if x != '(no genres listed)' else [])"
   ]
  },
  {
   "cell_type": "markdown",
   "id": "202e3f38",
   "metadata": {},
   "source": [
    "Kode ini melakukan transformasi data pada DataFrame `movies` dengan:\n",
    "\n",
    "1. **Membuat kolom baru** bernama `'genre_list'`\n",
    "2. **Mengisi kolom tersebut** dengan:\n",
    "   - Daftar genre yang dipisahkan dari string asli (kolom `'genres'`) menggunakan `split('|')`\n",
    "   - Jika genre adalah `'(no genres listed)'`, diisi dengan list kosong `[]`\n",
    "\n",
    "**Contoh Transformasi**:\n",
    "- Input: `\"Action|Adventure|Sci-Fi\"`  \n",
    "  Output: `[\"Action\", \"Adventure\", \"Sci-Fi\"]`\n",
    "- Input: `\"(no genres listed)\"`  \n",
    "  Output: `[]`\n",
    "\n",
    "**Fungsi Utama**:\n",
    "- Mengubah format genre dari string tunggal menjadi list terpisah\n",
    "- Mempermudah analisis/operasi berbasis genre individual"
   ]
  },
  {
   "cell_type": "markdown",
   "id": "e1b24310",
   "metadata": {},
   "source": [
    "## **Gabungkan Semua Tag Per Movie**"
   ]
  },
  {
   "cell_type": "code",
   "execution_count": 19,
   "id": "0b262cd6",
   "metadata": {},
   "outputs": [],
   "source": [
    "# Ubah tag ke lowercase dan hapus NaN\n",
    "tags['tag'] = tags['tag'].astype(str).str.lower()\n",
    "tags_clean = tags.dropna(subset=['tag'])"
   ]
  },
  {
   "cell_type": "code",
   "execution_count": 20,
   "id": "93704b04",
   "metadata": {},
   "outputs": [],
   "source": [
    "# Gabungkan semua tag per film jadi 1 string (untuk konten deskripsi)\n",
    "tags_grouped = tags_clean.groupby('movieId')['tag'].apply(lambda x: ' '.join(set(x))).reset_index()\n",
    "tags_grouped.columns = ['movieId', 'tags_combined']"
   ]
  },
  {
   "cell_type": "markdown",
   "id": "2882c25f",
   "metadata": {},
   "source": [
    "Kode ini melakukan penggabungan (aggregasi) tag untuk setiap film dengan cara:\n",
    "\n",
    "1. **Group by movieId**  \n",
    "   - Mengelompokkan data berdasarkan `movieId` (ID film unik)\n",
    "\n",
    "2. **Gabungkan tag**  \n",
    "   - Menggunakan `lambda x: ' '.join(set(x))` untuk:  \n",
    "     a. `set(x)` - Menghapus duplikat tag  \n",
    "     b. `' '.join()` - Menggabungkan tag unik menjadi satu string dipisahkan spasi\n",
    "\n",
    "3. **Hasil akhir**  \n",
    "   - Dataframe baru `tags_grouped` dengan kolom:  \n",
    "     - `movieId` (ID film)  \n",
    "     - `tags_combined` (string gabungan semua tag unik untuk film tersebut)"
   ]
  },
  {
   "cell_type": "markdown",
   "id": "ccbc46e7",
   "metadata": {},
   "source": [
    "## **Gabungkan dengan Dataset Movie**"
   ]
  },
  {
   "cell_type": "code",
   "execution_count": 21,
   "id": "3440046c",
   "metadata": {},
   "outputs": [],
   "source": [
    "movies_merged = pd.merge(movies, tags_grouped, on='movieId', how='left')\n",
    "movies_merged['tags_combined'] = movies_merged['tags_combined'].fillna('')"
   ]
  },
  {
   "cell_type": "markdown",
   "id": "56af6c54",
   "metadata": {},
   "source": [
    "Kode ini melakukan penggabungan (merge) dua DataFrame dengan langkah:\n",
    "\n",
    "1. **Merge Data**  \n",
    "   - Menggabungkan `movies` dan `tags_grouped` berdasarkan kolom `movieId`  \n",
    "   - `how='left'` artinya semua data dari `movies` dipertahankan (left join)  \n",
    "   - Tag hanya akan ditambahkan jika `movieId` ada di kedua tabel\n",
    "\n",
    "2. **Handle Missing Values**  \n",
    "   - `fillna('')` mengubah nilai kosong/NULL di kolom `tags_combined` menjadi string kosong  \n",
    "   - Memastikan tidak ada nilai NaN yang mengganggu operasi berikutnya"
   ]
  },
  {
   "cell_type": "markdown",
   "id": "44e2c7ed",
   "metadata": {},
   "source": [
    "## **Buat Kolom 'combined_features' untuk Content-Based**"
   ]
  },
  {
   "cell_type": "code",
   "execution_count": 22,
   "id": "a97420b6",
   "metadata": {},
   "outputs": [],
   "source": [
    "# Gabungkan title + genres + tags jadi satu kolom untuk fitur konten\n",
    "movies_merged['genre_str'] = movies_merged['genre_list'].apply(lambda x: ' '.join(x))\n",
    "movies_merged['combined_features'] = movies_merged['title'].str.lower() + ' ' + \\\n",
    "                                     movies_merged['genre_str'].str.lower() + ' ' + \\\n",
    "                                     movies_merged['tags_combined']"
   ]
  },
  {
   "cell_type": "markdown",
   "id": "4c5c2097",
   "metadata": {},
   "source": [
    "Kode ini menggabungkan beberapa fitur teks dari dataset film menjadi satu kolom:\n",
    "\n",
    "1. **Membuat string genre**  \n",
    "   `movies_merged['genre_str'] = movies_merged['genre_list'].apply(lambda x: ' '.join(x))`  \n",
    "   - Mengubah list genre menjadi string tunggal dipisahkan spasi\n",
    "\n",
    "2. **Menggabungkan semua fitur**  \n",
    "   `movies_merged['combined_features']` dibuat dengan menggabungkan:  \n",
    "   - Judul film (dikonversi lowercase)  \n",
    "   - String genre (lowercase)  \n",
    "   - Tag yang sudah digabungkan  \n",
    "   - Dipisahkan oleh spasi"
   ]
  },
  {
   "cell_type": "markdown",
   "id": "d45acf30",
   "metadata": {},
   "source": [
    "## **Gabungkan rating rata-rata film**"
   ]
  },
  {
   "cell_type": "code",
   "execution_count": 23,
   "id": "c9b05cb7",
   "metadata": {},
   "outputs": [],
   "source": [
    "# Ambil rata-rata rating per film\n",
    "rating_mean = ratings.groupby('movieId')['rating'].mean().reset_index()\n",
    "rating_mean.columns = ['movieId', 'average_rating']"
   ]
  },
  {
   "cell_type": "code",
   "execution_count": 24,
   "id": "e72b930d",
   "metadata": {},
   "outputs": [],
   "source": [
    "movies_final = pd.merge(movies_merged, rating_mean, on='movieId', how='left')"
   ]
  },
  {
   "cell_type": "code",
   "execution_count": 25,
   "id": "eecf07da",
   "metadata": {},
   "outputs": [
    {
     "name": "stdout",
     "output_type": "stream",
     "text": [
      "Contoh data hasil preprocessing:\n",
      "   movieId                               title  \\\n",
      "0        1                    Toy Story (1995)   \n",
      "1        2                      Jumanji (1995)   \n",
      "2        3             Grumpier Old Men (1995)   \n",
      "3        4            Waiting to Exhale (1995)   \n",
      "4        5  Father of the Bride Part II (1995)   \n",
      "\n",
      "                                        genres  \\\n",
      "0  Adventure|Animation|Children|Comedy|Fantasy   \n",
      "1                   Adventure|Children|Fantasy   \n",
      "2                               Comedy|Romance   \n",
      "3                         Comedy|Drama|Romance   \n",
      "4                                       Comedy   \n",
      "\n",
      "                                          genre_list  \\\n",
      "0  [Adventure, Animation, Children, Comedy, Fantasy]   \n",
      "1                     [Adventure, Children, Fantasy]   \n",
      "2                                  [Comedy, Romance]   \n",
      "3                           [Comedy, Drama, Romance]   \n",
      "4                                           [Comedy]   \n",
      "\n",
      "                                       tags_combined  \\\n",
      "0  rousing etch a sketch cgi animation cowboy dol...   \n",
      "1  statue cgi effect animal attack held at gunpoi...   \n",
      "2  old man grun running midwest clv duringcredits...   \n",
      "3  single mother clv characters divorce slurs int...   \n",
      "4  contraception father - child relationship dian...   \n",
      "\n",
      "                                   combined_features  average_rating  \n",
      "0  toy story (1995) adventure animation children ...        3.897438  \n",
      "1  jumanji (1995) adventure children fantasy stat...        3.275758  \n",
      "2  grumpier old men (1995) comedy romance old man...        3.139447  \n",
      "3  waiting to exhale (1995) comedy drama romance ...        2.845331  \n",
      "4  father of the bride part ii (1995) comedy cont...        3.059602  \n"
     ]
    }
   ],
   "source": [
    "print(\"Contoh data hasil preprocessing:\")\n",
    "print(movies_final[['movieId', 'title', 'genres', 'genre_list', 'tags_combined', 'combined_features', 'average_rating']].head())"
   ]
  },
  {
   "cell_type": "markdown",
   "id": "1e21eca4",
   "metadata": {},
   "source": [
    "# **Data Preparation**"
   ]
  },
  {
   "cell_type": "markdown",
   "id": "9c455822",
   "metadata": {},
   "source": [
    "## **TF-IDF Vectorization**"
   ]
  },
  {
   "cell_type": "code",
   "execution_count": 26,
   "id": "c4313bcf",
   "metadata": {},
   "outputs": [
    {
     "name": "stdout",
     "output_type": "stream",
     "text": [
      "Bentuk TF-IDF matrix: (87585, 71417)\n"
     ]
    }
   ],
   "source": [
    "tfidf = TfidfVectorizer(stop_words='english')\n",
    "tfidf_matrix = tfidf.fit_transform(movies_final['combined_features'])\n",
    "\n",
    "print(f\"Bentuk TF-IDF matrix: {tfidf_matrix.shape}\")\n"
   ]
  },
  {
   "cell_type": "markdown",
   "id": "0914c302",
   "metadata": {},
   "source": [
    "## **Hitung Cosine Similarity**"
   ]
  },
  {
   "cell_type": "code",
   "execution_count": 27,
   "id": "5174e4d5",
   "metadata": {},
   "outputs": [
    {
     "data": {
      "text/html": [
       "<style>#sk-container-id-1 {color: black;}#sk-container-id-1 pre{padding: 0;}#sk-container-id-1 div.sk-toggleable {background-color: white;}#sk-container-id-1 label.sk-toggleable__label {cursor: pointer;display: block;width: 100%;margin-bottom: 0;padding: 0.3em;box-sizing: border-box;text-align: center;}#sk-container-id-1 label.sk-toggleable__label-arrow:before {content: \"▸\";float: left;margin-right: 0.25em;color: #696969;}#sk-container-id-1 label.sk-toggleable__label-arrow:hover:before {color: black;}#sk-container-id-1 div.sk-estimator:hover label.sk-toggleable__label-arrow:before {color: black;}#sk-container-id-1 div.sk-toggleable__content {max-height: 0;max-width: 0;overflow: hidden;text-align: left;background-color: #f0f8ff;}#sk-container-id-1 div.sk-toggleable__content pre {margin: 0.2em;color: black;border-radius: 0.25em;background-color: #f0f8ff;}#sk-container-id-1 input.sk-toggleable__control:checked~div.sk-toggleable__content {max-height: 200px;max-width: 100%;overflow: auto;}#sk-container-id-1 input.sk-toggleable__control:checked~label.sk-toggleable__label-arrow:before {content: \"▾\";}#sk-container-id-1 div.sk-estimator input.sk-toggleable__control:checked~label.sk-toggleable__label {background-color: #d4ebff;}#sk-container-id-1 div.sk-label input.sk-toggleable__control:checked~label.sk-toggleable__label {background-color: #d4ebff;}#sk-container-id-1 input.sk-hidden--visually {border: 0;clip: rect(1px 1px 1px 1px);clip: rect(1px, 1px, 1px, 1px);height: 1px;margin: -1px;overflow: hidden;padding: 0;position: absolute;width: 1px;}#sk-container-id-1 div.sk-estimator {font-family: monospace;background-color: #f0f8ff;border: 1px dotted black;border-radius: 0.25em;box-sizing: border-box;margin-bottom: 0.5em;}#sk-container-id-1 div.sk-estimator:hover {background-color: #d4ebff;}#sk-container-id-1 div.sk-parallel-item::after {content: \"\";width: 100%;border-bottom: 1px solid gray;flex-grow: 1;}#sk-container-id-1 div.sk-label:hover label.sk-toggleable__label {background-color: #d4ebff;}#sk-container-id-1 div.sk-serial::before {content: \"\";position: absolute;border-left: 1px solid gray;box-sizing: border-box;top: 0;bottom: 0;left: 50%;z-index: 0;}#sk-container-id-1 div.sk-serial {display: flex;flex-direction: column;align-items: center;background-color: white;padding-right: 0.2em;padding-left: 0.2em;position: relative;}#sk-container-id-1 div.sk-item {position: relative;z-index: 1;}#sk-container-id-1 div.sk-parallel {display: flex;align-items: stretch;justify-content: center;background-color: white;position: relative;}#sk-container-id-1 div.sk-item::before, #sk-container-id-1 div.sk-parallel-item::before {content: \"\";position: absolute;border-left: 1px solid gray;box-sizing: border-box;top: 0;bottom: 0;left: 50%;z-index: -1;}#sk-container-id-1 div.sk-parallel-item {display: flex;flex-direction: column;z-index: 1;position: relative;background-color: white;}#sk-container-id-1 div.sk-parallel-item:first-child::after {align-self: flex-end;width: 50%;}#sk-container-id-1 div.sk-parallel-item:last-child::after {align-self: flex-start;width: 50%;}#sk-container-id-1 div.sk-parallel-item:only-child::after {width: 0;}#sk-container-id-1 div.sk-dashed-wrapped {border: 1px dashed gray;margin: 0 0.4em 0.5em 0.4em;box-sizing: border-box;padding-bottom: 0.4em;background-color: white;}#sk-container-id-1 div.sk-label label {font-family: monospace;font-weight: bold;display: inline-block;line-height: 1.2em;}#sk-container-id-1 div.sk-label-container {text-align: center;}#sk-container-id-1 div.sk-container {/* jupyter's `normalize.less` sets `[hidden] { display: none; }` but bootstrap.min.css set `[hidden] { display: none !important; }` so we also need the `!important` here to be able to override the default hidden behavior on the sphinx rendered scikit-learn.org. See: https://github.com/scikit-learn/scikit-learn/issues/21755 */display: inline-block !important;position: relative;}#sk-container-id-1 div.sk-text-repr-fallback {display: none;}</style><div id=\"sk-container-id-1\" class=\"sk-top-container\"><div class=\"sk-text-repr-fallback\"><pre>NearestNeighbors(algorithm=&#x27;brute&#x27;, metric=&#x27;cosine&#x27;)</pre><b>In a Jupyter environment, please rerun this cell to show the HTML representation or trust the notebook. <br />On GitHub, the HTML representation is unable to render, please try loading this page with nbviewer.org.</b></div><div class=\"sk-container\" hidden><div class=\"sk-item\"><div class=\"sk-estimator sk-toggleable\"><input class=\"sk-toggleable__control sk-hidden--visually\" id=\"sk-estimator-id-1\" type=\"checkbox\" checked><label for=\"sk-estimator-id-1\" class=\"sk-toggleable__label sk-toggleable__label-arrow\">NearestNeighbors</label><div class=\"sk-toggleable__content\"><pre>NearestNeighbors(algorithm=&#x27;brute&#x27;, metric=&#x27;cosine&#x27;)</pre></div></div></div></div></div>"
      ],
      "text/plain": [
       "NearestNeighbors(algorithm='brute', metric='cosine')"
      ]
     },
     "execution_count": 27,
     "metadata": {},
     "output_type": "execute_result"
    }
   ],
   "source": [
    "model_knn = NearestNeighbors(metric='cosine', algorithm='brute')\n",
    "model_knn.fit(tfidf_matrix)"
   ]
  },
  {
   "cell_type": "markdown",
   "id": "1f15d36a",
   "metadata": {},
   "source": [
    "### Penjelasan Kode:\n",
    "\n",
    "1. **`TfidfVectorizer(stop_words='english')`**  \n",
    "   Membuat objek untuk mengubah teks menjadi representasi numerik menggunakan metode **TF-IDF**.  \n",
    "   - TF-IDF = Term Frequency - Inverse Document Frequency  \n",
    "   - `stop_words='english'` secara otomatis menghapus kata-kata umum (seperti *the*, *and*, *is*) agar tidak mempengaruhi bobot fitur.\n",
    "\n",
    "2. **`fit_transform(movies_final['combined_features'])`**  \n",
    "   Menerapkan TF-IDF pada kolom `combined_features`, yang berisi gabungan informasi teks dari judul, genre, dan tag setiap film.  \n",
    "   Hasilnya adalah **matriks sparse** berukuran besar yang merepresentasikan setiap film sebagai vektor fitur berbasis kata.\n",
    "\n",
    "3. **`tfidf_matrix.shape`**  \n",
    "   Menampilkan dimensi matriks TF-IDF.\n",
    "\n",
    "---\n",
    "\n",
    "### Output:\n",
    "```\n",
    "Bentuk TF-IDF matrix: (87585, 71417)\n",
    "```\n",
    "\n",
    "Artinya:\n",
    "- Terdapat **87.585 film** (baris)\n",
    "- Terdapat **71.417 kata unik** (fitur) yang digunakan untuk merepresentasikan konten film\n"
   ]
  },
  {
   "cell_type": "markdown",
   "id": "9bf6b8f6",
   "metadata": {},
   "source": [
    "## **Index Mapping**"
   ]
  },
  {
   "cell_type": "code",
   "execution_count": 28,
   "id": "ef89fe74",
   "metadata": {},
   "outputs": [],
   "source": [
    "indices = pd.Series(movies_final.index, index=movies_final['title'].str.lower()).drop_duplicates()\n",
    "movieId_to_index = pd.Series(movies_final.index, index=movies_final['movieId'])"
   ]
  },
  {
   "cell_type": "markdown",
   "id": "00099ca9",
   "metadata": {},
   "source": [
    "### Tujuan:\n",
    "- Struktur ini sangat berguna untuk **mengakses data film dengan cepat**, baik berdasarkan judul maupun `movieId`.\n",
    "- Digunakan terutama saat membuat fungsi sistem rekomendasi seperti:\n",
    "  - Mencari indeks film berdasarkan input pengguna (judul atau ID)\n",
    "  - Mengambil baris vektor TF-IDF tertentu dari `tfidf_matrix`\n",
    "  - Membangun daftar film mirip dari indeks yang diketahui"
   ]
  },
  {
   "cell_type": "markdown",
   "id": "cfde271e",
   "metadata": {},
   "source": [
    "# **Model Development: Content-Based Filtering**"
   ]
  },
  {
   "cell_type": "markdown",
   "id": "de4f93bc",
   "metadata": {},
   "source": [
    "## **Rekomendasi Film Berdasarkan Judul**"
   ]
  },
  {
   "cell_type": "code",
   "execution_count": 29,
   "id": "b7431ec8",
   "metadata": {},
   "outputs": [],
   "source": [
    "def recommend_movies(title, num_recommendations=10):\n",
    "    title = title.lower()\n",
    "    if title not in indices:\n",
    "        return f\"Film '{title}' tidak ditemukan.\"\n",
    "\n",
    "    idx = indices[title]\n",
    "    distances, indices_similar = model_knn.kneighbors(tfidf_matrix[idx], n_neighbors=num_recommendations + 1)\n",
    "\n",
    "    recommended_indices = indices_similar.flatten()[1:]  \n",
    "    return movies_final.iloc[recommended_indices][['title', 'genres', 'average_rating']]"
   ]
  },
  {
   "cell_type": "markdown",
   "id": "019172d3",
   "metadata": {},
   "source": [
    "### Penjelasan Fungsi:\n",
    "\n",
    "Fungsi ini digunakan untuk memberikan **rekomendasi film serupa** berdasarkan **judul film input** yang diberikan pengguna.\n",
    "\n",
    "---\n",
    "\n",
    "### Langkah-langkah:\n",
    "\n",
    "1. **`title = title.lower()`**  \n",
    "   Mengubah input judul film menjadi huruf kecil untuk memastikan pencarian tidak sensitif terhadap kapitalisasi.\n",
    "\n",
    "2. **Cek apakah judul film ada dalam `indices`**  \n",
    "   Jika tidak ditemukan, fungsi mengembalikan pesan error:\n",
    "   ```\n",
    "   Film 'judul' tidak ditemukan.\n",
    "   ```\n",
    "\n",
    "3. **Ambil indeks film dari `indices`**  \n",
    "   Digunakan untuk mengakses baris film dalam TF-IDF matrix:\n",
    "   ```python\n",
    "   idx = indices[title]\n",
    "   ```\n",
    "\n",
    "4. **Hitung kemiripan menggunakan KNN (K-Nearest Neighbors)**  \n",
    "   Model `model_knn` akan mencari film paling mirip berdasarkan vektor TF-IDF:\n",
    "   ```python\n",
    "   distances, indices_similar = model_knn.kneighbors(tfidf_matrix[idx], n_neighbors=num_recommendations + 1)\n",
    "   ```\n",
    "\n",
    "5. **Ambil indeks rekomendasi (tanpa film itu sendiri)**  \n",
    "   Elemen pertama adalah film input itu sendiri, jadi di-skip:\n",
    "   ```python\n",
    "   recommended_indices = indices_similar.flatten()[1:]\n",
    "   ```\n",
    "\n",
    "6. **Kembalikan hasil rekomendasi**  \n",
    "   Menampilkan judul, genre, dan rata-rata rating dari film-film yang direkomendasikan:\n",
    "   ```python\n",
    "   return movies_final.iloc[recommended_indices][['title', 'genres', 'average_rating']]\n",
    "   ```\n",
    "\n",
    "---\n",
    "\n",
    "### Tujuan:\n",
    "Memberikan **daftar film serupa** berdasarkan isi konten (judul, genre, tag, dll) dengan pendekatan **content-based filtering** menggunakan **TF-IDF + KNN**.\n"
   ]
  },
  {
   "cell_type": "markdown",
   "id": "11f8816d",
   "metadata": {},
   "source": [
    "## **Contoh Penggunaan**"
   ]
  },
  {
   "cell_type": "code",
   "execution_count": 30,
   "id": "2a979a26",
   "metadata": {},
   "outputs": [
    {
     "name": "stdout",
     "output_type": "stream",
     "text": [
      "Rekomendasi film mirip dengan 'Toy Story (1995)':\n",
      "                                           title  \\\n",
      "3021                          Toy Story 2 (1999)   \n",
      "60708                         Toy Story 4 (2019)   \n",
      "14815                         Toy Story 3 (2010)   \n",
      "24090          Toy Story That Time Forgot (2014)   \n",
      "22647          Toy Story Toons: Small Fry (2011)   \n",
      "24088    Toy Story Toons: Partysaurus Rex (2012)   \n",
      "22646  Toy Story Toons: Hawaiian Vacation (2011)   \n",
      "33857                         Toy Masters (2014)   \n",
      "1831                       Small Soldiers (1998)   \n",
      "73549                           Lamp Life (2020)   \n",
      "\n",
      "                                                 genres  average_rating  \n",
      "3021        Adventure|Animation|Children|Comedy|Fantasy        3.812043  \n",
      "60708               Adventure|Animation|Children|Comedy        3.589044  \n",
      "14815  Adventure|Animation|Children|Comedy|Fantasy|IMAX        3.827643  \n",
      "24090                                Animation|Children        3.216617  \n",
      "22647       Adventure|Animation|Children|Comedy|Fantasy        3.077236  \n",
      "24088                         Animation|Children|Comedy        3.324176  \n",
      "22646       Adventure|Animation|Children|Comedy|Fantasy        3.043165  \n",
      "33857                                       Documentary             NaN  \n",
      "1831                     Animation|Children|Fantasy|War        2.844727  \n",
      "73549                         Animation|Children|Comedy        3.000000  \n"
     ]
    }
   ],
   "source": [
    "print(\"Rekomendasi film mirip dengan 'Toy Story (1995)':\")\n",
    "print(recommend_movies(\"Toy Story (1995)\"))"
   ]
  },
  {
   "cell_type": "markdown",
   "id": "8a820558",
   "metadata": {},
   "source": [
    "## **Rekomendasi Film Berdasarkan Mood**"
   ]
  },
  {
   "cell_type": "code",
   "execution_count": 31,
   "id": "e267f797",
   "metadata": {},
   "outputs": [],
   "source": [
    "def recommend_movies_advanced(title, num_recommendations=10, mood_filter=None):\n",
    "    title = title.lower()\n",
    "    if title not in indices:\n",
    "        return f\"Film '{title}' tidak ditemukan dalam dataset.\"\n",
    "\n",
    "    idx = indices[title]\n",
    "\n",
    "    # Ambil 50 film paling mirip dari model NearestNeighbors\n",
    "    distances, indices_similar = model_knn.kneighbors(tfidf_matrix[idx], n_neighbors=50)\n",
    "    recommended_indices = indices_similar.flatten()[1:]\n",
    "\n",
    "    # Ambil film yang relevan\n",
    "    recommendations = movies_final.iloc[recommended_indices].copy()\n",
    "\n",
    "    # --- Mapping genre ke mood (versi lengkap) ---\n",
    "    mood_genre_map = {\n",
    "        'bahagia': ['Comedy', 'Adventure', 'Animation', 'Family', 'Musical'],\n",
    "        'romantis': ['Romance'],\n",
    "        'sedih': ['Drama', 'History', 'War', 'Film-Noir'],\n",
    "        'tegang': ['Thriller', 'Horror', 'Action', 'Mystery', 'Crime', 'Adventure'],\n",
    "        'ceria': ['Animation', 'Family', 'Children'],\n",
    "        'imajinatif': ['Fantasy', 'Sci-Fi'],\n",
    "        'nyata': ['Documentary'],\n",
    "        'klasik': ['Western', 'Film-Noir']\n",
    "    }\n",
    "\n",
    "\n",
    "    if mood_filter:\n",
    "        mood_filter = mood_filter.lower()\n",
    "        if mood_filter in mood_genre_map:\n",
    "            target_genres = set(mood_genre_map[mood_filter])\n",
    "            recommendations = recommendations[\n",
    "                recommendations['genre_list'].apply(lambda genres: any(g in target_genres for g in genres))\n",
    "            ]\n",
    "        else:\n",
    "            print(f\"Mood '{mood_filter}' tidak ditemukan. Gunakan salah satu: {list(mood_genre_map.keys())}\")\n",
    "\n",
    "    # Urutkan berdasarkan average rating\n",
    "    recommendations = recommendations.sort_values(by='average_rating', ascending=False)\n",
    "\n",
    "    # Kembalikan hasil akhir\n",
    "    return recommendations[['title', 'genres', 'average_rating']].head(num_recommendations)\n"
   ]
  },
  {
   "cell_type": "markdown",
   "id": "7430b234",
   "metadata": {},
   "source": [
    "### Penjelasan Fungsi:\n",
    "\n",
    "Fungsi ini digunakan untuk merekomendasikan film yang mirip dengan film input berdasarkan konten, **dengan opsi filter berdasarkan suasana hati (mood)** pengguna.\n",
    "\n",
    "---\n",
    "\n",
    "### Langkah-langkah Penjelasan:\n",
    "\n",
    "1. **Konversi Judul ke Huruf Kecil**\n",
    "   ```python\n",
    "   title = title.lower()\n",
    "   ```\n",
    "   Untuk memastikan pencocokan judul tidak case-sensitive.\n",
    "\n",
    "2. **Cek Apakah Judul Ada**\n",
    "   ```python\n",
    "   if title not in indices:\n",
    "       return f\"Film '{title}' tidak ditemukan dalam dataset.\"\n",
    "   ```\n",
    "   Mengembalikan pesan jika judul tidak ada di dataset.\n",
    "\n",
    "3. **Cari Indeks dan Film Serupa**\n",
    "   ```python\n",
    "   idx = indices[title]\n",
    "   distances, indices_similar = model_knn.kneighbors(tfidf_matrix[idx], n_neighbors=50)\n",
    "   recommended_indices = indices_similar.flatten()[1:]\n",
    "   ```\n",
    "   Mengambil **50 film terdekat** (termasuk film itu sendiri, lalu di-skip), berdasarkan vektor TF-IDF dan model KNN.\n",
    "\n",
    "4. **Ambil Data Film yang Direkomendasikan**\n",
    "   ```python\n",
    "   recommendations = movies_final.iloc[recommended_indices].copy()\n",
    "   ```\n",
    "\n",
    "5. **Filter Berdasarkan Mood (Opsional)**\n",
    "   ```python\n",
    "   mood_genre_map = {\n",
    "       'bahagia': ['Comedy', 'Adventure', 'Animation', 'Family', 'Musical'],\n",
    "       'romantis': ['Romance'],\n",
    "       'sedih': ['Drama', 'History', 'War', 'Film-Noir'],\n",
    "       'tegang': ['Thriller', 'Horror', 'Action', 'Mystery', 'Crime', 'Adventure'],\n",
    "       'ceria': ['Animation', 'Family', 'Children'],\n",
    "       'imajinatif': ['Fantasy', 'Sci-Fi'],\n",
    "       'nyata': ['Documentary'],\n",
    "       'klasik': ['Western', 'Film-Noir']\n",
    "   }\n",
    "   ```\n",
    "   Jika `mood_filter` diisi dan cocok dengan salah satu kunci, maka akan:\n",
    "   - Menyaring hanya film yang memiliki genre sesuai dengan mood.\n",
    "   - Contoh: mood `'bahagia'` akan memilih film dengan genre `Comedy`, `Adventure`, dll.\n",
    "\n",
    "6. **Urutkan Berdasarkan Rating**\n",
    "   ```python\n",
    "   recommendations = recommendations.sort_values(by='average_rating', ascending=False)\n",
    "   ```\n",
    "\n",
    "7. **Kembalikan N Teratas**\n",
    "   ```python\n",
    "   return recommendations[['title', 'genres', 'average_rating']].head(num_recommendations)\n",
    "   ```\n",
    "\n",
    "---\n",
    "\n",
    "### Tujuan Fungsi:\n",
    "- Memberikan rekomendasi film yang **mirip secara konten**.\n",
    "- Menyesuaikan hasil rekomendasi dengan **suasana hati pengguna**.\n",
    "- Menyaring dan mengurutkan film berdasarkan **genre yang relevan dan rating tertinggi**.\n"
   ]
  },
  {
   "cell_type": "code",
   "execution_count": 32,
   "id": "2d6c3973",
   "metadata": {},
   "outputs": [
    {
     "name": "stdout",
     "output_type": "stream",
     "text": [
      "                                          title  \\\n",
      "57705  Spider-Man: Into the Spider-Verse (2018)   \n",
      "1237                  Back to the Future (1985)   \n",
      "581           Terminator 2: Judgment Day (1991)   \n",
      "1207                     Terminator, The (1984)   \n",
      "25097                           Deadpool (2016)   \n",
      "\n",
      "                                  genres  average_rating  \n",
      "57705  Action|Adventure|Animation|Sci-Fi        4.185260  \n",
      "1237             Adventure|Comedy|Sci-Fi        3.969149  \n",
      "581                        Action|Sci-Fi        3.962045  \n",
      "1207              Action|Sci-Fi|Thriller        3.902092  \n",
      "25097     Action|Adventure|Comedy|Sci-Fi        3.850283  \n"
     ]
    }
   ],
   "source": [
    "print(recommend_movies_advanced(\"Jumanji (1995)\", num_recommendations=5, mood_filter=\"imajinatif\"))"
   ]
  },
  {
   "cell_type": "markdown",
   "id": "3740c845",
   "metadata": {},
   "source": [
    "# **Evaluasi**"
   ]
  },
  {
   "cell_type": "code",
   "execution_count": 33,
   "id": "489983d2",
   "metadata": {},
   "outputs": [
    {
     "name": "stdout",
     "output_type": "stream",
     "text": [
      "Rata-rata Precision@10: 0.1408\n"
     ]
    }
   ],
   "source": [
    "# Ambil userId yang cukup aktif (banyak rating)\n",
    "active_users = ratings['userId'].value_counts()\n",
    "active_users = active_users[active_users >= 20].index.tolist()\n",
    "\n",
    "def evaluate_precision_at_k(user_id, k=10, threshold=4.0):\n",
    "    \"\"\"\n",
    "    Evaluasi Precision@K untuk 1 user:\n",
    "    Apakah rekomendasi film mirip (berdasarkan film yang dia sukai) juga memiliki rating tinggi?\n",
    "    \"\"\"\n",
    "    # Ambil film yang disukai user\n",
    "    user_ratings = ratings[(ratings['userId'] == user_id) & (ratings['rating'] >= threshold)]\n",
    "    liked_movies = user_ratings['movieId'].tolist()\n",
    "\n",
    "    if not liked_movies:\n",
    "        return None\n",
    "\n",
    "    hit = 0\n",
    "    total = 0\n",
    "\n",
    "    for movie_id in liked_movies:\n",
    "        if movie_id not in movieId_to_index:\n",
    "            continue\n",
    "        idx = movieId_to_index[movie_id]\n",
    "        distances, indices_similar = model_knn.kneighbors(tfidf_matrix[idx], n_neighbors=k+1)\n",
    "        recommended_movie_ids = movies_final.iloc[indices_similar.flatten()[1:]]['movieId'].tolist()\n",
    "\n",
    "        # Hit jika film yang disukai juga muncul dalam rekomendasi dari film lain yang disukai\n",
    "        hits = sum([1 for m in recommended_movie_ids if m in liked_movies and m != movie_id])\n",
    "        hit += hits\n",
    "        total += k\n",
    "\n",
    "    if total == 0:\n",
    "        return None\n",
    "\n",
    "    precision_at_k = hit / total\n",
    "    return precision_at_k\n",
    "\n",
    "# Evaluasi untuk beberapa user\n",
    "results = []\n",
    "for uid in active_users[:30]:  # evaluasi 30 user saja agar cepat\n",
    "    p_at_k = evaluate_precision_at_k(uid, k=10)\n",
    "    if p_at_k is not None:\n",
    "        results.append(p_at_k)\n",
    "\n",
    "# Rata-rata Precision@10\n",
    "import numpy as np\n",
    "average_precision = np.mean(results)\n",
    "\n",
    "print(f\"Rata-rata Precision@10: {average_precision:.4f}\")\n"
   ]
  },
  {
   "cell_type": "markdown",
   "id": "45009e5e",
   "metadata": {},
   "source": [
    "## Evaluasi Sistem Rekomendasi: Precision@10\n",
    "\n",
    "### Tujuan Evaluasi:\n",
    "Mengevaluasi seberapa **relevan rekomendasi film** berdasarkan film yang disukai oleh pengguna.  \n",
    "Metode yang digunakan adalah **Precision@10**, yaitu proporsi film yang benar-benar disukai (berdasarkan rating pengguna) di antara 10 film yang direkomendasikan.\n",
    "\n",
    "---\n",
    "\n",
    "### Langkah Evaluasi:\n",
    "\n",
    "1. **Filter User Aktif**\n",
    "   - Hanya pengguna yang memberi **≥ 20 rating** diikutkan dalam evaluasi.\n",
    "   - Hal ini dilakukan agar hasil evaluasi tidak bias akibat data yang terlalu sedikit.\n",
    "\n",
    "2. **Fungsi `evaluate_precision_at_k`**\n",
    "   - Untuk setiap pengguna:\n",
    "     - Ambil semua film yang dia beri **rating ≥ 4.0** (film yang disukai).\n",
    "     - Untuk setiap film yang disukai, cari **10 film mirip** menggunakan sistem rekomendasi (TF-IDF + KNN).\n",
    "     - Hitung berapa banyak dari film yang direkomendasikan juga termasuk film yang disukai oleh user tersebut (selain film asal).\n",
    "     - Hitung Precision@10:\n",
    "       \\[\n",
    "       \\text{Precision@10} = \\frac{\\text{Jumlah hits}}{10 \\times \\text{jumlah film disukai}}\n",
    "       \\]\n",
    "\n",
    "3. **Evaluasi 30 Pengguna**\n",
    "   - Precision@10 dihitung untuk **30 user aktif pertama**.\n",
    "\n",
    "---\n",
    "\n",
    "### Hasil Akhir:\n",
    "\n",
    "```python\n",
    "Rata-rata Precision@10: 0.1408\n",
    "```\n",
    "\n",
    "- Artinya, **sekitar 14.08%** dari film yang direkomendasikan untuk setiap pengguna benar-benar termasuk dalam daftar film yang mereka sukai.\n",
    "- Ini merupakan hasil awal yang **lumayan baik untuk sistem content-based sederhana**, namun tentu masih dapat ditingkatkan (misalnya dengan personalisasi, hybrid model, atau collaborative filtering).\n",
    "\n",
    "---\n",
    "\n",
    "### Kesimpulan:\n",
    "\n",
    "- **Content-based filtering** seperti ini **masih terbatas** dalam memahami selera pengguna secara menyeluruh karena hanya melihat kesamaan antar film.\n",
    "- Precision@10 sebesar **0.1408** menunjukkan bahwa dari 10 film yang direkomendasikan, rata-rata **hanya 1–2 film yang benar-benar disukai** oleh user.\n",
    "- Sistem ini bisa dijadikan dasar yang kuat, tetapi untuk **peningkatan kualitas rekomendasi**, perlu integrasi teknik tambahan seperti:\n",
    "  - Collaborative Filtering\n",
    "  - Rekomendasi berbasis histori user\n",
    "  - Feedback loop dari pengguna\n",
    "\n"
   ]
  }
 ],
 "metadata": {
  "kernelspec": {
   "display_name": "tf-gpu-2.10",
   "language": "python",
   "name": "python3"
  },
  "language_info": {
   "codemirror_mode": {
    "name": "ipython",
    "version": 3
   },
   "file_extension": ".py",
   "mimetype": "text/x-python",
   "name": "python",
   "nbconvert_exporter": "python",
   "pygments_lexer": "ipython3",
   "version": "3.8.20"
  }
 },
 "nbformat": 4,
 "nbformat_minor": 5
}
